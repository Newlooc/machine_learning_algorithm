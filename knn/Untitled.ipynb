{
 "cells": [
  {
   "cell_type": "code",
   "execution_count": 34,
   "metadata": {},
   "outputs": [
    {
     "data": {
      "text/plain": [
       "{'A': 2}"
      ]
     },
     "execution_count": 34,
     "metadata": {},
     "output_type": "execute_result"
    }
   ],
   "source": [
    "from numpy import *\n",
    "import operator\n",
    "\n",
    "def createDataSet() :\n",
    "    group = array([[1.0, 1.1], [1.0, 1.0], [0, 0], [0, 0.1]])\n",
    "    label = ['A', 'A', 'B', 'B']\n",
    "    return group, label\n",
    "\n",
    "#(TestintData, TrainingData, Label, K)\n",
    "def classify0(intX, dataSet, labels, k) :\n",
    "    #整理数据\n",
    "    #\n",
    "    dataSetSize = dataSet.shape[0]\n",
    "    #将TestingData向量扩充成TrainingData同维矩阵\n",
    "    intXMat = tile(intX, (dataSetSize, 1))\n",
    "    \n",
    "    #求距离\n",
    "    #\n",
    "    #求TestingData和TrainingData的差, 为了求距离\n",
    "    diffMat = intXMat - dataSet\n",
    "    #差平方\n",
    "    sqDiffMat = diffMat**2\n",
    "    #求距离\n",
    "    sqDistance = sqDiffMat.sum(axis=1)\n",
    "    #为了严谨, 开方\n",
    "    distance = sqDistance**0.5\n",
    "    \n",
    "    #返回结果\n",
    "    #\n",
    "    #取得按距离排序后TrainingData的Key, 为了方便取的Label\n",
    "    sortedDistanceIndecis = distance.argsort()\n",
    "    classCount = {}\n",
    "    for i in range(k) :\n",
    "        label = labels[sortedDistanceIndecis[i]]\n",
    "        classCount[label] = classCount.get(label, 0) + 1\n",
    "    return classCount\n",
    "\n",
    "data, label = createDataSet()\n",
    "    \n",
    "classify0([1,2], data, label , 2)\n"
   ]
  },
  {
   "cell_type": "code",
   "execution_count": null,
   "metadata": {},
   "outputs": [],
   "source": []
  },
  {
   "cell_type": "code",
   "execution_count": null,
   "metadata": {},
   "outputs": [],
   "source": []
  }
 ],
 "metadata": {
  "kernelspec": {
   "display_name": "Python 3",
   "language": "python",
   "name": "python3"
  },
  "language_info": {
   "codemirror_mode": {
    "name": "ipython",
    "version": 3
   },
   "file_extension": ".py",
   "mimetype": "text/x-python",
   "name": "python",
   "nbconvert_exporter": "python",
   "pygments_lexer": "ipython3",
   "version": "3.7.1"
  }
 },
 "nbformat": 4,
 "nbformat_minor": 2
}
